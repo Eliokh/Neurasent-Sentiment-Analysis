# 1. Import necessary libraries and load the data
import tensorflow as tf
from tensorflow.keras.preprocessing.text import Tokenizer
from tensorflow.keras.preprocessing.sequence import pad_sequences
import pandas as pd
from sklearn.model_selection import train_test_split
import numpy as np

# Load the dataset
df = pd.read_csv("cleandata.csv")

# 2. Preprocess the data
# We'll use a simple Tokenizer to convert our text to numerical data
tokenizer = Tokenizer(num_words=10000, oov_token="<OOV>")
tokenizer.fit_on_texts(df['Review'])

# Convert texts to sequences
sequences = tokenizer.texts_to_sequences(df['Review'])
padded_sequences = pad_sequences(sequences, padding='post')

# 3. Split the data into training and validation sets
labels = df['Rating'].values
X_train, X_test, y_train, y_test = train_test_split(padded_sequences, labels, test_size=0.2, random_state=42)

# 4. Build and train the model
model = tf.keras.Sequential([
    tf.keras.layers.Embedding(10000, 16, input_length=X_train.shape[1]),
    tf.keras.layers.GlobalAveragePooling1D(),
    tf.keras.layers.Dense(24, activation='relu'),
    tf.keras.layers.Dense(1, activation='linear')
])

model.compile(loss='mean_squared_error',optimizer='adam')

model.fit(X_train, y_train, epochs=30, validation_data=(X_test, y_test), verbose=2)

# 5. Evaluate the model
model.evaluate(X_test, y_test)
