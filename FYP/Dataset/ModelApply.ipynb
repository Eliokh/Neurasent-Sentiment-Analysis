{
 "cells": [
  {
   "cell_type": "code",
   "execution_count": 14,
   "metadata": {},
   "outputs": [],
   "source": [
    "import pandas as pd\n",
    "import matplotlib.pyplot as plt\n"
   ]
  },
  {
   "cell_type": "code",
   "execution_count": 15,
   "metadata": {},
   "outputs": [
    {
     "data": {
      "text/html": [
       "<div>\n",
       "<style scoped>\n",
       "    .dataframe tbody tr th:only-of-type {\n",
       "        vertical-align: middle;\n",
       "    }\n",
       "\n",
       "    .dataframe tbody tr th {\n",
       "        vertical-align: top;\n",
       "    }\n",
       "\n",
       "    .dataframe thead th {\n",
       "        text-align: right;\n",
       "    }\n",
       "</style>\n",
       "<table border=\"1\" class=\"dataframe\">\n",
       "  <thead>\n",
       "    <tr style=\"text-align: right;\">\n",
       "      <th></th>\n",
       "      <th>Uniq Id</th>\n",
       "      <th>Crawl Timestamp</th>\n",
       "      <th>Pageurl</th>\n",
       "      <th>Website</th>\n",
       "      <th>Title</th>\n",
       "      <th>Rating</th>\n",
       "      <th>Review</th>\n",
       "      <th>Reviewer Name</th>\n",
       "      <th>Review Upvotes</th>\n",
       "      <th>Review Downvotes</th>\n",
       "      <th>Verified Purchaser</th>\n",
       "      <th>Recommended Purchase</th>\n",
       "      <th>Review Date</th>\n",
       "      <th>Five Star</th>\n",
       "      <th>Four Star</th>\n",
       "      <th>Three Star</th>\n",
       "      <th>Two Star</th>\n",
       "      <th>One Star</th>\n",
       "    </tr>\n",
       "  </thead>\n",
       "  <tbody>\n",
       "    <tr>\n",
       "      <th>0</th>\n",
       "      <td>1800878dcfa5255c691f2a87ce8b2869</td>\n",
       "      <td>2020-05-16 17:58:33 +0000</td>\n",
       "      <td>https://www.walmart.com/reviews/product/36907838</td>\n",
       "      <td>walmart.com</td>\n",
       "      <td>NaN</td>\n",
       "      <td>1.0</td>\n",
       "      <td>One star for looking nice. That’s it. After tr...</td>\n",
       "      <td>PJ10</td>\n",
       "      <td>0</td>\n",
       "      <td>0</td>\n",
       "      <td>No</td>\n",
       "      <td>No</td>\n",
       "      <td>7/28/2018</td>\n",
       "      <td>23.0</td>\n",
       "      <td>5.0</td>\n",
       "      <td>1.0</td>\n",
       "      <td>3.0</td>\n",
       "      <td>6.0</td>\n",
       "    </tr>\n",
       "    <tr>\n",
       "      <th>1</th>\n",
       "      <td>ac06ca1b77310d539c9a74eed7a8a8e2</td>\n",
       "      <td>2020-04-17 01:05:43 +0000</td>\n",
       "      <td>https://www.walmart.com/reviews/product/708236785</td>\n",
       "      <td>walmart.com</td>\n",
       "      <td>NaN</td>\n",
       "      <td>4.0</td>\n",
       "      <td>Love this phone so far have had it almost a mo...</td>\n",
       "      <td>KelJo</td>\n",
       "      <td>9</td>\n",
       "      <td>3</td>\n",
       "      <td>No</td>\n",
       "      <td>No</td>\n",
       "      <td>11/14/2017</td>\n",
       "      <td>91.0</td>\n",
       "      <td>23.0</td>\n",
       "      <td>13.0</td>\n",
       "      <td>9.0</td>\n",
       "      <td>31.0</td>\n",
       "    </tr>\n",
       "    <tr>\n",
       "      <th>2</th>\n",
       "      <td>9c4b10fff4e5e2cc7e2e1bbed76e2220</td>\n",
       "      <td>2020-06-08 10:35:05 +0000</td>\n",
       "      <td>https://www.walmart.com/reviews/product/831078728</td>\n",
       "      <td>walmart.com</td>\n",
       "      <td>NaN</td>\n",
       "      <td>4.0</td>\n",
       "      <td>This TV is absolutely fantastic. This is my th...</td>\n",
       "      <td>TheBigChalupa11</td>\n",
       "      <td>0</td>\n",
       "      <td>0</td>\n",
       "      <td>Yes</td>\n",
       "      <td>No</td>\n",
       "      <td>5/20/2020</td>\n",
       "      <td>32.0</td>\n",
       "      <td>8.0</td>\n",
       "      <td>1.0</td>\n",
       "      <td>0.0</td>\n",
       "      <td>0.0</td>\n",
       "    </tr>\n",
       "    <tr>\n",
       "      <th>3</th>\n",
       "      <td>b5a5dc8de9fc0468aab961f097b56091</td>\n",
       "      <td>2020-04-13 03:57:29 +0000</td>\n",
       "      <td>https://www.walmart.com/reviews/product/40712755</td>\n",
       "      <td>walmart.com</td>\n",
       "      <td>NaN</td>\n",
       "      <td>5.0</td>\n",
       "      <td>Refurb, good shape, good price, does what I wa...</td>\n",
       "      <td>Micalic</td>\n",
       "      <td>0</td>\n",
       "      <td>0</td>\n",
       "      <td>No</td>\n",
       "      <td>No</td>\n",
       "      <td>7/9/2019</td>\n",
       "      <td>418.0</td>\n",
       "      <td>62.0</td>\n",
       "      <td>17.0</td>\n",
       "      <td>1.0</td>\n",
       "      <td>13.0</td>\n",
       "    </tr>\n",
       "    <tr>\n",
       "      <th>4</th>\n",
       "      <td>430433b52b882e540c16363d448e012b</td>\n",
       "      <td>2020-05-19 03:52:42 +0000</td>\n",
       "      <td>https://www.walmart.com/reviews/product/46597970</td>\n",
       "      <td>walmart.com</td>\n",
       "      <td>NaN</td>\n",
       "      <td>5.0</td>\n",
       "      <td>Very nice tablet! Looks brand new. Fired right...</td>\n",
       "      <td>jcan74</td>\n",
       "      <td>0</td>\n",
       "      <td>0</td>\n",
       "      <td>No</td>\n",
       "      <td>No</td>\n",
       "      <td>2/11/2020</td>\n",
       "      <td>213.0</td>\n",
       "      <td>57.0</td>\n",
       "      <td>25.0</td>\n",
       "      <td>24.0</td>\n",
       "      <td>87.0</td>\n",
       "    </tr>\n",
       "  </tbody>\n",
       "</table>\n",
       "</div>"
      ],
      "text/plain": [
       "                            Uniq Id            Crawl Timestamp   \n",
       "0  1800878dcfa5255c691f2a87ce8b2869  2020-05-16 17:58:33 +0000  \\\n",
       "1  ac06ca1b77310d539c9a74eed7a8a8e2  2020-04-17 01:05:43 +0000   \n",
       "2  9c4b10fff4e5e2cc7e2e1bbed76e2220  2020-06-08 10:35:05 +0000   \n",
       "3  b5a5dc8de9fc0468aab961f097b56091  2020-04-13 03:57:29 +0000   \n",
       "4  430433b52b882e540c16363d448e012b  2020-05-19 03:52:42 +0000   \n",
       "\n",
       "                                             Pageurl      Website Title   \n",
       "0   https://www.walmart.com/reviews/product/36907838  walmart.com   NaN  \\\n",
       "1  https://www.walmart.com/reviews/product/708236785  walmart.com   NaN   \n",
       "2  https://www.walmart.com/reviews/product/831078728  walmart.com   NaN   \n",
       "3   https://www.walmart.com/reviews/product/40712755  walmart.com   NaN   \n",
       "4   https://www.walmart.com/reviews/product/46597970  walmart.com   NaN   \n",
       "\n",
       "   Rating                                             Review    Reviewer Name   \n",
       "0     1.0  One star for looking nice. That’s it. After tr...             PJ10  \\\n",
       "1     4.0  Love this phone so far have had it almost a mo...            KelJo   \n",
       "2     4.0  This TV is absolutely fantastic. This is my th...  TheBigChalupa11   \n",
       "3     5.0  Refurb, good shape, good price, does what I wa...          Micalic   \n",
       "4     5.0  Very nice tablet! Looks brand new. Fired right...           jcan74   \n",
       "\n",
       "   Review Upvotes  Review Downvotes Verified Purchaser Recommended Purchase   \n",
       "0               0                 0                 No                   No  \\\n",
       "1               9                 3                 No                   No   \n",
       "2               0                 0                Yes                   No   \n",
       "3               0                 0                 No                   No   \n",
       "4               0                 0                 No                   No   \n",
       "\n",
       "  Review Date  Five Star  Four Star  Three Star  Two Star  One Star  \n",
       "0   7/28/2018       23.0        5.0         1.0       3.0       6.0  \n",
       "1  11/14/2017       91.0       23.0        13.0       9.0      31.0  \n",
       "2   5/20/2020       32.0        8.0         1.0       0.0       0.0  \n",
       "3    7/9/2019      418.0       62.0        17.0       1.0      13.0  \n",
       "4   2/11/2020      213.0       57.0        25.0      24.0      87.0  "
      ]
     },
     "execution_count": 15,
     "metadata": {},
     "output_type": "execute_result"
    }
   ],
   "source": [
    "df = pd.read_csv(\"rawdata.csv\")\n",
    "df.head(5)"
   ]
  },
  {
   "cell_type": "code",
   "execution_count": 16,
   "metadata": {},
   "outputs": [],
   "source": [
    "# drop all the columns except for Review and Rating\n",
    "df = df.drop(columns=[\"Uniq Id\", \"Crawl Timestamp\", \"Pageurl\", \"Website\",\n",
    "                       \"Title\", \"Reviewer Name\", \"Review Upvotes\", \"Review Downvotes\",\n",
    "                         \"Verified Purchaser\", \"Recommended Purchase\", \"Review Date\",\n",
    "                           \"Five Star\", \"Four Star\", \"Three Star\", \"Two Star\", \"One Star\"])"
   ]
  },
  {
   "cell_type": "code",
   "execution_count": 17,
   "metadata": {},
   "outputs": [
    {
     "data": {
      "text/html": [
       "<div>\n",
       "<style scoped>\n",
       "    .dataframe tbody tr th:only-of-type {\n",
       "        vertical-align: middle;\n",
       "    }\n",
       "\n",
       "    .dataframe tbody tr th {\n",
       "        vertical-align: top;\n",
       "    }\n",
       "\n",
       "    .dataframe thead th {\n",
       "        text-align: right;\n",
       "    }\n",
       "</style>\n",
       "<table border=\"1\" class=\"dataframe\">\n",
       "  <thead>\n",
       "    <tr style=\"text-align: right;\">\n",
       "      <th></th>\n",
       "      <th>Rating</th>\n",
       "      <th>Review</th>\n",
       "    </tr>\n",
       "  </thead>\n",
       "  <tbody>\n",
       "    <tr>\n",
       "      <th>0</th>\n",
       "      <td>1.0</td>\n",
       "      <td>One star for looking nice. That’s it. After tr...</td>\n",
       "    </tr>\n",
       "    <tr>\n",
       "      <th>1</th>\n",
       "      <td>4.0</td>\n",
       "      <td>Love this phone so far have had it almost a mo...</td>\n",
       "    </tr>\n",
       "    <tr>\n",
       "      <th>2</th>\n",
       "      <td>4.0</td>\n",
       "      <td>This TV is absolutely fantastic. This is my th...</td>\n",
       "    </tr>\n",
       "    <tr>\n",
       "      <th>3</th>\n",
       "      <td>5.0</td>\n",
       "      <td>Refurb, good shape, good price, does what I wa...</td>\n",
       "    </tr>\n",
       "    <tr>\n",
       "      <th>4</th>\n",
       "      <td>5.0</td>\n",
       "      <td>Very nice tablet! Looks brand new. Fired right...</td>\n",
       "    </tr>\n",
       "  </tbody>\n",
       "</table>\n",
       "</div>"
      ],
      "text/plain": [
       "   Rating                                             Review\n",
       "0     1.0  One star for looking nice. That’s it. After tr...\n",
       "1     4.0  Love this phone so far have had it almost a mo...\n",
       "2     4.0  This TV is absolutely fantastic. This is my th...\n",
       "3     5.0  Refurb, good shape, good price, does what I wa...\n",
       "4     5.0  Very nice tablet! Looks brand new. Fired right..."
      ]
     },
     "execution_count": 17,
     "metadata": {},
     "output_type": "execute_result"
    }
   ],
   "source": [
    "df.head()"
   ]
  },
  {
   "cell_type": "code",
   "execution_count": 18,
   "metadata": {},
   "outputs": [
    {
     "name": "stdout",
     "output_type": "stream",
     "text": [
      "Rating    0\n",
      "Review    0\n",
      "dtype: int64\n"
     ]
    }
   ],
   "source": [
    "df = df.dropna()\n",
    "print(df.isnull().sum())\n"
   ]
  },
  {
   "cell_type": "code",
   "execution_count": 19,
   "metadata": {},
   "outputs": [
    {
     "name": "stdout",
     "output_type": "stream",
     "text": [
      "0\n"
     ]
    }
   ],
   "source": [
    "df = df.drop_duplicates(subset=[\"Review\"])\n",
    "print(df.duplicated().sum())\n"
   ]
  },
  {
   "cell_type": "code",
   "execution_count": 20,
   "metadata": {},
   "outputs": [
    {
     "data": {
      "image/png": "[encoded data removed]",
      "text/plain": [
       "<Figure size 432x288 with 1 Axes>"
      ]
     },
     "metadata": {
      "needs_background": "light"
     },
     "output_type": "display_data"
    }
   ],
   "source": [
    "df.boxplot(column=[\"Rating\"])\n",
    "plt.show()"
   ]
  },
  {
   "cell_type": "code",
   "execution_count": 21,
   "metadata": {},
   "outputs": [],
   "source": [
    "# For this example, I will use the spellchecker library to check and correct the spelling errors in each review\n",
    "# from spellchecker import SpellChecker\n",
    "\n",
    "# spell = SpellChecker()\n",
    "# def correct_spelling(text):  \n",
    "#   # split the text into words\n",
    "#   words = text.split()\n",
    "#   # loop through each word and correct it if it is misspelled\n",
    "#   corrected_words = []\n",
    "#   for word in words:\n",
    "#     corrected_word = spell.correction(word)\n",
    "\n",
    "#     #to keep the original word if it is correct:\n",
    "#     if corrected_word is None:\n",
    "#       corrected_word = word \n",
    "\n",
    "#     corrected_words.append(corrected_word)\n",
    "#   # join the corrected words back into a text\n",
    "#   corrected_text = \" \".join(corrected_words)\n",
    "#   return corrected_text\n",
    "\n",
    "\n",
    "##it is taking so much time to run so we skip it as it is not necessary\n"
   ]
  },
  {
   "cell_type": "code",
   "execution_count": 22,
   "metadata": {},
   "outputs": [],
   "source": [
    "\n",
    "# Remove outliers based on some criteria ( rating below 1 or above 5)\n",
    "df = df[(df[\"Rating\"] >= 1) & (df[\"Rating\"] <= 5)]"
   ]
  },
  {
   "cell_type": "code",
   "execution_count": 23,
   "metadata": {},
   "outputs": [
    {
     "name": "stdout",
     "output_type": "stream",
     "text": [
      "Rating\n",
      "5.0    15011\n",
      "4.0     3875\n",
      "1.0     2970\n",
      "3.0     1500\n",
      "2.0     1132\n",
      "Name: count, dtype: int64\n"
     ]
    }
   ],
   "source": [
    " #Handle categorical variables\n",
    "print(df[\"Rating\"].value_counts()) # check the frequency of each category"
   ]
  },
  {
   "cell_type": "code",
   "execution_count": 24,
   "metadata": {},
   "outputs": [
    {
     "name": "stdout",
     "output_type": "stream",
     "text": [
      "4.095434498529892\n"
     ]
    }
   ],
   "source": [
    "print(df[\"Rating\"].mean()) # check the mean of rating column"
   ]
  },
  {
   "cell_type": "code",
   "execution_count": 25,
   "metadata": {},
   "outputs": [
    {
     "name": "stdout",
     "output_type": "stream",
     "text": [
      "1.3934425355085853\n"
     ]
    }
   ],
   "source": [
    "print(df[\"Rating\"].std()) # check the standard deviation of rating column\n"
   ]
  },
  {
   "cell_type": "code",
   "execution_count": 26,
   "metadata": {},
   "outputs": [
    {
     "data": {
      "image/png": "[encoded data removed]",
      "text/plain": [
       "<Figure size 432x288 with 1 Axes>"
      ]
     },
     "metadata": {
      "needs_background": "light"
     },
     "output_type": "display_data"
    }
   ],
   "source": [
    "df[\"Rating\"].hist() # plot a histogram of rating column\n",
    "plt.show() # show the plot\n"
   ]
  },
  {
   "cell_type": "code",
   "execution_count": 29,
   "metadata": {},
   "outputs": [],
   "source": [
    "df.to_csv('cleandata.csv', index=False)"
   ]
  }
 ],
 "metadata": {
  "kernelspec": {
   "display_name": "Python 3",
   "language": "python",
   "name": "python3"
  },
  "language_info": {
   "codemirror_mode": {
    "name": "ipython",
    "version": 3
   },
   "file_extension": ".py",
   "mimetype": "text/x-python",
   "name": "python",
   "nbconvert_exporter": "python",
   "pygments_lexer": "ipython3",
   "version": "3.10.4"
  },
  "orig_nbformat": 4
 },
 "nbformat": 4,
 "nbformat_minor": 2
}
